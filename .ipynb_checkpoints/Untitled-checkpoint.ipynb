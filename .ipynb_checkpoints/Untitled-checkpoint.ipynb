{
 "cells": [
  {
   "cell_type": "code",
   "execution_count": 1,
   "id": "357a1a60-b547-4db1-833a-a4a978ff7501",
   "metadata": {},
   "outputs": [
    {
     "name": "stderr",
     "output_type": "stream",
     "text": [
      "2023-05-08 14:11:45.108071: W external/org_tensorflow/tensorflow/tsl/platform/default/dso_loader.cc:66] Could not load dynamic library 'libcudart.so.11.0'; dlerror: libcudart.so.11.0: cannot open shared object file: No such file or directory; LD_LIBRARY_PATH: /storage/icds/RISE/sw8/julia-1.8.1/julia-1.8.1/lib:/storage/icds/RISE/sw8/anaconda/anaconda3/lib\n",
      "2023-05-08 14:11:45.148780: W external/org_tensorflow/tensorflow/tsl/platform/default/dso_loader.cc:66] Could not load dynamic library 'libcudart.so.11.0'; dlerror: libcudart.so.11.0: cannot open shared object file: No such file or directory; LD_LIBRARY_PATH: /storage/icds/RISE/sw8/julia-1.8.1/julia-1.8.1/lib:/storage/icds/RISE/sw8/anaconda/anaconda3/lib\n",
      "2023-05-08 14:11:45.150568: W external/org_tensorflow/tensorflow/tsl/platform/default/dso_loader.cc:66] Could not load dynamic library 'libcudart.so.11.0'; dlerror: libcudart.so.11.0: cannot open shared object file: No such file or directory; LD_LIBRARY_PATH: /storage/icds/RISE/sw8/julia-1.8.1/julia-1.8.1/lib:/storage/icds/RISE/sw8/anaconda/anaconda3/lib\n",
      "2023-05-08 14:11:45.750172: W external/org_tensorflow/tensorflow/tsl/platform/default/dso_loader.cc:66] Could not load dynamic library 'libcuda.so.1'; dlerror: libcuda.so.1: cannot open shared object file: No such file or directory; LD_LIBRARY_PATH: /storage/icds/RISE/sw8/julia-1.8.1/julia-1.8.1/lib:/storage/icds/RISE/sw8/anaconda/anaconda3/lib\n",
      "2023-05-08 14:11:45.750194: W external/org_tensorflow/tensorflow/compiler/xla/stream_executor/cuda/cuda_driver.cc:265] failed call to cuInit: UNKNOWN ERROR (303)\n",
      "WARNING:jax._src.lib.xla_bridge:No GPU/TPU found, falling back to CPU. (Set TF_CPP_MIN_LOG_LEVEL=0 and rerun for more info.)\n"
     ]
    },
    {
     "name": "stdout",
     "output_type": "stream",
     "text": [
      "0.09911987920425651\n",
      "0.13617203661431207\n",
      "0.17815398337889624\n",
      "0.22196452877492187\n",
      "0.26336135786308595\n",
      "0.29757809812482694\n",
      "0.3202066230161938\n",
      "0.3281255832\n",
      "0.3202066230161938\n",
      "0.29757809812482694\n",
      "0.26336135786308595\n",
      "0.22196452877492187\n",
      "0.17815398337889624\n",
      "0.13617203661431207\n",
      "0.09911987920425651\n"
     ]
    }
   ],
   "source": [
    "from GP_recovery import *"
   ]
  },
  {
   "cell_type": "code",
   "execution_count": 2,
   "id": "b529ed4f-2fe8-4dd7-bcf1-cf03783c37be",
   "metadata": {},
   "outputs": [
    {
     "data": {
      "text/plain": [
       "((601,), (601,))"
      ]
     },
     "execution_count": 2,
     "metadata": {},
     "output_type": "execute_result"
    }
   ],
   "source": [
    "Nr = 1\n",
    "t = np.linspace(0, 600, 601)\n",
    "gp = GaussianProcess(kernel, t)\n",
    "y = gp.sample(jax.random.PRNGKey(4), shape=(Nr,))\n",
    "y = y[0,:]\n",
    "t.shape, y.shape"
   ]
  },
  {
   "cell_type": "code",
   "execution_count": null,
   "id": "a70f0c1f-cf4f-4ab7-acd2-fc1fefb181e9",
   "metadata": {},
   "outputs": [],
   "source": [
    "from multiprocessing import Pool\n",
    "import time\n",
    "import os\n",
    "\n",
    "def execute(k):\n",
    "    # T_env = 200 \n",
    "\n",
    "    idx_train_1 = (t < 300-10*k)\n",
    "    idx_train_2 = (t > 300+10*k) \n",
    "    idx_train = idx_train_1|idx_train_2\n",
    "    t_train = t[idx_train]\n",
    "    y_train = y[idx_train]\n",
    "    \n",
    "    gp = GaussianProcess(kernel, t_train)\n",
    "    cond_gp = gp.condition(y_train, t).gp\n",
    "    pred_mean, pred_std = cond_gp.loc, cond_gp.variance**0.5   \n",
    "    \n",
    "#     fig, axs = plt.subplots(3, 1, figsize=(16, 6))\n",
    "#     plt.subplots_adjust(hspace=0.3)\n",
    "\n",
    "#     for i in range(3):\n",
    "#         idx_t = ((t>=i*T_env) & (t<(i+1)*T_env))\n",
    "#         axs[i].plot(t[idx_t], y[idx_t], 'ko', alpha=0.3)\n",
    "#         axs[i].plot(t[idx_t&idx_train_1], pred_mean[idx_t&idx_train_1], color='k', alpha=0.8)\n",
    "#         axs[i].plot(t[idx_t&idx_train_2], pred_mean[idx_t&idx_train_2], color='k', alpha=0.8)\n",
    "#         axs[i].plot(t[idx_t&~idx_train], pred_mean[idx_t&~idx_train], color='r', alpha=0.8)\n",
    "#         axs[i].fill_between(t[idx_t], pred_mean[idx_t]+pred_std[idx_t], pred_mean[idx_t]-pred_std[idx_t], \n",
    "#                             color='r', alpha=0.3, edgecolor=\"none\")\n",
    "#         axs[i].set_ylabel('RV [m/s]')\n",
    "#         axs[i].set_xlim([i*T_env, (i+1)*T_env])\n",
    "#         axs[i].set_ylim([-3.5, 3.5])    \n",
    "#         axs[i].grid(True)\n",
    "#     axs[-1].set_xlabel('$t$ [minutes]')\n",
    "#     plt.savefig('./Figure/GP_recovery_run-19_train-test/' + str(k) + '.png')\n",
    "#     plt.show()\n",
    "    return np.std(pred_mean[~idx_train] - y[~idx_train])\n",
    "   \n",
    "if __name__ == \"__main__\":\n",
    "    # first way, using multiprocessing\n",
    "    start_time = time.perf_counter()\n",
    "    \n",
    "    with Pool(processes=os.cpu_count()) as pool:\n",
    "        result = pool.map(execute, range(0,26)) \n",
    "    \n",
    "    finish_time = time.perf_counter()\n",
    "    print(\"Program finished in {} seconds - using multiprocessing\".format(finish_time-start_time))\n",
    "    print(\"---\")    "
   ]
  },
  {
   "cell_type": "code",
   "execution_count": null,
   "id": "0878ce91-21f6-4192-a466-63f8030cde5b",
   "metadata": {},
   "outputs": [],
   "source": []
  }
 ],
 "metadata": {
  "kernelspec": {
   "display_name": "Python 3 (ipykernel)",
   "language": "python",
   "name": "python3"
  },
  "language_info": {
   "codemirror_mode": {
    "name": "ipython",
    "version": 3
   },
   "file_extension": ".py",
   "mimetype": "text/x-python",
   "name": "python",
   "nbconvert_exporter": "python",
   "pygments_lexer": "ipython3",
   "version": "3.10.6"
  }
 },
 "nbformat": 4,
 "nbformat_minor": 5
}
