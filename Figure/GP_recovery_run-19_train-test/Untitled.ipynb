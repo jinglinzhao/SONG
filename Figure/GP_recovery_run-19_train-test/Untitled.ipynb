{
 "cells": [
  {
   "cell_type": "code",
   "execution_count": null,
   "id": "23736aec-0bdf-442c-9284-1187315eb360",
   "metadata": {},
   "outputs": [],
   "source": [
    "import multiprocessing\n",
    "\n",
    "def compute_res_rms(k):\n",
    "    T_env = 200 \n",
    "    \n",
    "    idx_train_1 = (t < 300-10*k)\n",
    "    idx_train_2 = (t > 300+10*k) \n",
    "    idx_train = idx_train_1|idx_train_2\n",
    "    t_train = t[idx_train]\n",
    "    y_train = y[idx_train]\n",
    "    \n",
    "    gp = GaussianProcess(kernel, t_train)\n",
    "    cond_gp = gp.condition(y_train, t).gp\n",
    "    pred_mean, pred_std = cond_gp.loc, cond_gp.variance**0.5   \n",
    "    \n",
    "    fig, axs = plt.subplots(3, 1, figsize=(16, 6))\n",
    "    plt.subplots_adjust(hspace=0.3)\n",
    "\n",
    "    for i in range(3):\n",
    "        idx_t = ((t>=i*T_env) & (t<(i+1)*T_env))\n",
    "        axs[i].plot(t[idx_t], y[idx_t], 'ko', alpha=0.3)\n",
    "        axs[i].plot(t[idx_t&idx_train_1], pred_mean[idx_t&idx_train_1], color='k', alpha=0.8)\n",
    "        axs[i].plot(t[idx_t&idx_train_2], pred_mean[idx_t&idx_train_2], color='k', alpha=0.8)\n",
    "        axs[i].plot(t[idx_t&~idx_train], pred_mean[idx_t&~idx_train], color='r', alpha=0.8)\n",
    "        axs[i].fill_between(t[idx_t], pred_mean[idx_t]+pred_std[idx_t], pred_mean[idx_t]-pred_std[idx_t], \n",
    "                            color='r', alpha=0.3, edgecolor=\"none\")\n",
    "        axs[i].set_ylabel('RV [m/s]')\n",
    "        axs[i].set_xlim([i*T_env, (i+1)*T_env])\n",
    "        axs[i].set_ylim([-3.5, 3.5])    \n",
    "        axs[i].grid(True)\n",
    "    axs[-1].set_xlabel('$t$ [minutes]')\n",
    "    plt.savefig('./Figure/GP_recovery_run-19_train-test/' + str(k) + '.png')\n",
    "    plt.show()\n",
    "    return np.std(pred_mean[~idx_train] - y[~idx_train])\n",
    "\n",
    "# Create a list of items to process\n",
    "items = [1, 2]\n",
    "\n",
    "# Create a Pool object with 4 worker processes\n",
    "pool = multiprocessing.Pool(processes=2)\n",
    "\n",
    "# Apply the compute function to each item in parallel\n",
    "results = pool.map(compute_res_rms, items)\n",
    "\n",
    "# Print the results\n",
    "print(results)\n"
   ]
  }
 ],
 "metadata": {
  "kernelspec": {
   "display_name": "Python 3 (ipykernel)",
   "language": "python",
   "name": "python3"
  },
  "language_info": {
   "codemirror_mode": {
    "name": "ipython",
    "version": 3
   },
   "file_extension": ".py",
   "mimetype": "text/x-python",
   "name": "python",
   "nbconvert_exporter": "python",
   "pygments_lexer": "ipython3",
   "version": "3.10.6"
  }
 },
 "nbformat": 4,
 "nbformat_minor": 5
}
