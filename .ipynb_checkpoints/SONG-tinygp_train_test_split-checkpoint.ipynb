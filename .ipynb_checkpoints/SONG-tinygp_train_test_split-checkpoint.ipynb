{
 "cells": [
  {
   "cell_type": "markdown",
   "id": "7eb36fde-d04a-451a-84da-ad6c30f89e14",
   "metadata": {},
   "source": [
    "delta_nu/2 instead of delta_nu"
   ]
  },
  {
   "cell_type": "code",
   "execution_count": 1,
   "id": "a40749fc-cc72-48c5-9711-0fa5d4e250d3",
   "metadata": {},
   "outputs": [],
   "source": [
    "import numpy as np\n",
    "import matplotlib.pyplot as plt\n",
    "from PyAstronomy import pyasl\n",
    "from datetime import datetime\n",
    "import celerite\n",
    "from celerite import terms\n",
    "from scipy.optimize import minimize\n",
    "from scipy.signal import find_peaks\n",
    "from astropy.timeseries import LombScargle\n",
    "from datetime import timedelta, date\n",
    "from sklearn.linear_model import LinearRegression\n",
    "import statsmodels.api as sm\n",
    "\n",
    "from NEID_solar_functions import *\n",
    "from GP_kernels import *\n"
   ]
  },
  {
   "cell_type": "code",
   "execution_count": 2,
   "id": "6e0b4761-a062-4328-880f-788aa86524f1",
   "metadata": {},
   "outputs": [],
   "source": [
    "SONG = np.loadtxt('./lib/sun_SONG_full_lowess_filtered_final_used.dat')\n",
    "bjd = SONG[:,0]\n",
    "rv = SONG[:,1]"
   ]
  },
  {
   "cell_type": "code",
   "execution_count": 3,
   "id": "910956ae-6ed7-415d-8f03-466d6633266b",
   "metadata": {},
   "outputs": [],
   "source": [
    "start_date = datetime(2018, 5, 27)\n",
    "end_date = datetime(2018, 5, 27)\n",
    "\n",
    "for date in daterange(start_date, end_date):\n",
    "    T1 = pyasl.jdcnv(date)\n",
    "    idx_bjd = (bjd>T1) & (bjd<T1+1)\n",
    "    \n",
    "    t = (bjd[idx_bjd]-min(bjd[idx_bjd]))*24*60\n",
    "    y = rv[idx_bjd]\n",
    "    yerr = np.ones(len(t))*0.7\n",
    "    \n",
    "    t0 = t\n",
    "    y0 = y\n",
    "    yerr0 = yerr"
   ]
  },
  {
   "cell_type": "code",
   "execution_count": 4,
   "id": "a2eaee27-304a-4f31-981c-ac9f4ea204ba",
   "metadata": {},
   "outputs": [],
   "source": [
    "idx_test = ((t > 450) & (t < 500))\n",
    "t = t[~idx_test]\n",
    "y = y[~idx_test]\n",
    "yerr = yerr[~idx_test]"
   ]
  },
  {
   "cell_type": "code",
   "execution_count": 5,
   "id": "309158f4-043a-405e-8844-e180e8b96325",
   "metadata": {},
   "outputs": [],
   "source": [
    "idx = np.sort(random.sample(range(0, len(t)), 3000))"
   ]
  },
  {
   "cell_type": "code",
   "execution_count": 6,
   "id": "df3d100c-f99a-4915-84a0-452b1e2b8bac",
   "metadata": {},
   "outputs": [],
   "source": [
    "t = t[idx] - min(t[idx])\n",
    "y = y[idx]\n",
    "yerr = yerr[idx]"
   ]
  },
  {
   "cell_type": "code",
   "execution_count": 7,
   "id": "375285af-3509-437e-a0ab-23eab0f2fb7d",
   "metadata": {},
   "outputs": [],
   "source": [
    "# plt.rcParams.update({'font.size': 18})\n",
    "# fig = plt.figure(figsize=(10, 6))\n",
    "# plt.plot(t, y, '.')"
   ]
  },
  {
   "cell_type": "code",
   "execution_count": 8,
   "id": "9da4760c-1d4f-441d-a3a9-683ce3500e6f",
   "metadata": {},
   "outputs": [
    {
     "name": "stderr",
     "output_type": "stream",
     "text": [
      "2023-03-16 15:46:52.589540: W external/org_tensorflow/tensorflow/tsl/platform/default/dso_loader.cc:66] Could not load dynamic library 'libcudart.so.11.0'; dlerror: libcudart.so.11.0: cannot open shared object file: No such file or directory; LD_LIBRARY_PATH: /storage/icds/RISE/sw8/julia-1.8.1/julia-1.8.1/lib:/storage/icds/RISE/sw8/anaconda/anaconda3/lib\n",
      "2023-03-16 15:46:52.942782: W external/org_tensorflow/tensorflow/tsl/platform/default/dso_loader.cc:66] Could not load dynamic library 'libcudart.so.11.0'; dlerror: libcudart.so.11.0: cannot open shared object file: No such file or directory; LD_LIBRARY_PATH: /storage/icds/RISE/sw8/julia-1.8.1/julia-1.8.1/lib:/storage/icds/RISE/sw8/anaconda/anaconda3/lib\n",
      "2023-03-16 15:46:52.961335: W external/org_tensorflow/tensorflow/tsl/platform/default/dso_loader.cc:66] Could not load dynamic library 'libcudart.so.11.0'; dlerror: libcudart.so.11.0: cannot open shared object file: No such file or directory; LD_LIBRARY_PATH: /storage/icds/RISE/sw8/julia-1.8.1/julia-1.8.1/lib:/storage/icds/RISE/sw8/anaconda/anaconda3/lib\n"
     ]
    }
   ],
   "source": [
    "import jax\n",
    "import jax.numpy as jnp\n",
    "from tinygp import kernels, GaussianProcess\n",
    "import tinygp\n",
    "\n",
    "jax.config.update(\"jax_enable_x64\", True)\n"
   ]
  },
  {
   "cell_type": "code",
   "execution_count": null,
   "id": "526c1765-79d6-428b-98fe-547a089e7feb",
   "metadata": {},
   "outputs": [
    {
     "name": "stderr",
     "output_type": "stream",
     "text": [
      "2023-03-16 15:46:55.310742: W external/org_tensorflow/tensorflow/tsl/platform/default/dso_loader.cc:66] Could not load dynamic library 'libcuda.so.1'; dlerror: libcuda.so.1: cannot open shared object file: No such file or directory; LD_LIBRARY_PATH: /storage/icds/RISE/sw8/julia-1.8.1/julia-1.8.1/lib:/storage/icds/RISE/sw8/anaconda/anaconda3/lib\n",
      "2023-03-16 15:46:55.310770: W external/org_tensorflow/tensorflow/compiler/xla/stream_executor/cuda/cuda_driver.cc:265] failed call to cuInit: UNKNOWN ERROR (303)\n",
      "WARNING:jax._src.lib.xla_bridge:No GPU/TPU found, falling back to CPU. (Set TF_CPP_MIN_LOG_LEVEL=0 and rerun for more info.)\n"
     ]
    }
   ],
   "source": [
    "# Factor to convert uHz to minute^-1\n",
    "uHz_conv = 1e-6 * 60\n",
    "\n",
    "def build_gp(theta, X):\n",
    "\n",
    "    # We want most of our parameters to be positive so we take the `exp` here\n",
    "    # Note that we're using `jnp` instead of `np`\n",
    "    Q = jnp.exp(theta[\"log_Q\"])\n",
    "    A = jnp.exp(theta[\"log_A\"])\n",
    "    W = jnp.exp(theta[\"log_W\"])\n",
    "    # sigma = jnp.exp(theta[\"log_sigma\"])\n",
    "    nu_max = jnp.exp(theta[\"log_nu_max\"])\n",
    "    delta_nu = jnp.exp(theta[\"log_delta_nu\"])\n",
    "    epsilon = theta[\"epsilon\"]\n",
    "\n",
    "    # Construct the kernel by multiplying and adding `Kernel` objects\n",
    "    \n",
    "    kernel = 0     \n",
    "    N = 25 # 25*135/2=1620\n",
    "    for i in range(N):\n",
    "        omega = 2*np.pi*(nu_max + (-(N-1)/2+i)*delta_nu/2 + epsilon)*uHz_conv\n",
    "        sigma = A*jnp.exp( - (i*delta_nu/2 + epsilon)**2 / (2*W**2) ) # uHz_conv is cancelled out; change A/Q**2 to A**2\n",
    "        kernel += tinygp.kernels.quasisep.SHO(omega, Q, sigma)\n",
    "            \n",
    "    return GaussianProcess(\n",
    "        kernel, X, diag=jnp.exp(theta[\"log_diag\"]))    \n",
    "\n",
    "def neg_log_likelihood(theta, X, y):\n",
    "    gp = build_gp(theta, X)\n",
    "    return -gp.log_probability(y)\n",
    "\n",
    "\n",
    "theta_init = {\n",
    "    \"log_diag\": np.log(0.7),\n",
    "    \"log_Q\": np.log(800),\n",
    "    \"log_A\": np.log(1),\n",
    "    \"log_W\": np.log(135*2),\n",
    "    \"log_nu_max\": np.log(3000),\n",
    "    \"log_delta_nu\": np.log(135),\n",
    "    \"epsilon\": np.float64(0.0)\n",
    "}\n",
    "\n",
    "\n",
    "# `jax` can be used to differentiate functions, and also note that we're calling\n",
    "# `jax.jit` for the best performance.\n",
    "obj = jax.jit(jax.value_and_grad(neg_log_likelihood))\n",
    "\n",
    "print(f\"Initial negative log likelihood: {obj(theta_init, t, y)[0]}\")\n",
    "print(\n",
    "    f\"Gradient of the negative log likelihood, wrt the parameters:\\n{obj(theta_init, t, y)[1]}\"\n",
    ")"
   ]
  },
  {
   "cell_type": "code",
   "execution_count": null,
   "id": "ccfd3239-1b02-42b8-b5b4-592c48631197",
   "metadata": {},
   "outputs": [],
   "source": [
    "theta_init"
   ]
  },
  {
   "cell_type": "code",
   "execution_count": null,
   "id": "f9e47d6c-db3d-491a-a7ca-a68b31be39a8",
   "metadata": {},
   "outputs": [],
   "source": [
    "# bounds = {\n",
    "#     \"mean\": np.float64([-1, 1]),\n",
    "#     \"log_diag\": np.log([0.1, 1]),\n",
    "#     \"log_omega\": (np.log([0.8, 0.8]), np.log([1.6, 1.6])),\n",
    "#     \"log_Q\": (np.log([100, 100]), np.log([1000, 1000])),\n",
    "#     \"log_sigma\": (np.float64([0.1, 0.1]), np.float64([1, 1])),\n",
    "# }"
   ]
  },
  {
   "cell_type": "code",
   "execution_count": null,
   "id": "c5dc53c9-c892-42fe-ba1e-ca173a826479",
   "metadata": {},
   "outputs": [],
   "source": [
    "epsilon_l, epsilon_h = jnp.float64([-10, 10])\n",
    "bounds_l = jnp.log(jnp.array([1e-4, 4e2,  1e2, 130, 0.4, 2500.0]))\n",
    "bounds_h = jnp.log(jnp.array([1e2,  10**4,  5e2, 140, 1.0, 3500.0]))\n",
    "lower_bounds, upper_bounds = jnp.hstack((epsilon_l, bounds_l)), jnp.hstack((epsilon_h, bounds_h))\n",
    "bounds = (lower_bounds, upper_bounds)\n",
    "bounds"
   ]
  },
  {
   "cell_type": "code",
   "execution_count": null,
   "id": "57bfcdc2-6d56-47a4-ab5d-ba63ab297b06",
   "metadata": {},
   "outputs": [],
   "source": [
    "# w_init = jnp.zeros(7)\n",
    "# lower_bounds = jnp.ones_like(w_init)* (-1)\n",
    "# upper_bounds = jnp.ones_like(w_init) * jnp.inf\n",
    "# bounds = (lower_bounds, upper_bounds)"
   ]
  },
  {
   "cell_type": "code",
   "execution_count": null,
   "id": "a9280ea3-bfe7-4804-827d-667d706ead36",
   "metadata": {},
   "outputs": [],
   "source": [
    "import jaxopt\n",
    "solver = jaxopt.ScipyBoundedMinimize(fun=neg_log_likelihood)\n",
    "soln = solver.run(theta_init, bounds=bounds, X=t, y=y)\n",
    "print(f\"Final negative log likelihood: {soln.state.fun_val}\")"
   ]
  },
  {
   "cell_type": "code",
   "execution_count": null,
   "id": "cd5cb912-8749-4f46-951c-3b089bbb9c99",
   "metadata": {},
   "outputs": [],
   "source": [
    "soln.params"
   ]
  },
  {
   "cell_type": "code",
   "execution_count": 16,
   "id": "421511dd-5fd2-4996-8fc6-87c13b08e2fd",
   "metadata": {},
   "outputs": [
    {
     "name": "stdout",
     "output_type": "stream",
     "text": [
      "lon 1.189264647155565\n",
      "A 2.907249784787454\n",
      "Q 399.9999999999999\n",
      "W 250.75255819046376\n",
      "delta_nu 129.99999999999997\n",
      "diag 0.5384685917362175\n",
      "nu_max 3494.2609552822687\n",
      "4.769725810395384\n"
     ]
    }
   ],
   "source": [
    "for key, value in soln.params.items():\n",
    "    print(key[4:], np.exp(value))\n",
    "    \n",
    "print(1/(np.exp(soln.params['log_nu_max'])*uHz_conv))"
   ]
  },
  {
   "cell_type": "code",
   "execution_count": 17,
   "id": "f1963d3c-4634-47e1-b855-0f5fe1bb0fca",
   "metadata": {},
   "outputs": [
    {
     "data": {
      "text/plain": [
       "DeviceArray(3.0577659, dtype=float64)"
      ]
     },
     "execution_count": 17,
     "metadata": {},
     "output_type": "execute_result"
    }
   ],
   "source": [
    "np.exp(soln.params['log_A']) * jnp.exp( - (1*np.exp(soln.params['log_delta_nu'])/2 + np.exp(soln.params['epsilon']))**2 / (2*np.exp(soln.params['log_W'])**2) )"
   ]
  },
  {
   "cell_type": "code",
   "execution_count": 17,
   "id": "5920245f-b66a-48a7-a115-7666ded9b4c1",
   "metadata": {},
   "outputs": [
    {
     "name": "stdout",
     "output_type": "stream",
     "text": [
      "0.9999887530740645\n",
      "0.9657617673700186\n",
      "0.8720924975785102\n",
      "0.736330416870976\n",
      "0.5813003446274005\n",
      "0.4290877031662574\n",
      "0.2961482738935976\n",
      "0.19111289510212912\n",
      "0.11531569641685767\n",
      "0.06505856945986489\n",
      "0.03431928583057592\n",
      "0.01692737528742066\n"
     ]
    }
   ],
   "source": [
    "for j in range(12):\n",
    "    coeff = jnp.exp( - (j*np.exp(soln.params['log_delta_nu'])/2 + np.exp(soln.params['epsilon']))**2 / (2*np.exp(soln.params['log_W'])**2) )\n",
    "    print(coeff)"
   ]
  },
  {
   "cell_type": "code",
   "execution_count": null,
   "id": "47d80d3b-e3c2-4de9-ba06-f57e78ebd7ee",
   "metadata": {},
   "outputs": [],
   "source": [
    "x = np.linspace(min(t), max(t), 1000)\n",
    "gp = build_gp(soln.params, t)\n",
    "cond_gp = gp.condition(y, x).gp\n",
    "pred_mean, pred_std = cond_gp.loc, cond_gp.variance"
   ]
  },
  {
   "cell_type": "code",
   "execution_count": null,
   "id": "01b61dc0-3545-4cb7-8dea-4f6167c5c698",
   "metadata": {},
   "outputs": [],
   "source": [
    "for i in range(4):\n",
    "    fig = plt.figure(figsize=(16, 2))\n",
    "    idx_t = ((t>=i*200) & (t<(i+1)*200))\n",
    "    idx_x = ((x>=i*200) & (x<(i+1)*200))\n",
    "    plt.plot(t[idx_t], y[idx_t], 'k.', alpha=0.1)\n",
    "    plt.plot(x[idx_x], pred_mean[idx_x], color='k', alpha=0.8)\n",
    "    plt.plot(t0[idx_test], y0[idx_test], '.', color='r', alpha=0.1)\n",
    "    plt.fill_between(x[idx_x], pred_mean[idx_x]+pred_std[idx_x], pred_mean[idx_x]-pred_std[idx_x], color='k', alpha=0.2,\n",
    "                     edgecolor=\"none\")\n",
    "    plt.xlabel('t [minute]')\n",
    "    plt.ylabel('RV [m/s]')\n",
    "    plt.xlim([i*200, (i+1)*200])\n",
    "    plt.ylim([-3.5, 3.5])\n",
    "    plt.show()"
   ]
  },
  {
   "cell_type": "code",
   "execution_count": null,
   "id": "755e6507-e472-42d5-a6e4-dbf4fcd30ed9",
   "metadata": {},
   "outputs": [],
   "source": []
  },
  {
   "cell_type": "code",
   "execution_count": null,
   "id": "9cccccb3-0477-4e7d-b385-a20af635c548",
   "metadata": {},
   "outputs": [],
   "source": []
  }
 ],
 "metadata": {
  "kernelspec": {
   "display_name": "Python 3 (ipykernel)",
   "language": "python",
   "name": "python3"
  },
  "language_info": {
   "codemirror_mode": {
    "name": "ipython",
    "version": 3
   },
   "file_extension": ".py",
   "mimetype": "text/x-python",
   "name": "python",
   "nbconvert_exporter": "python",
   "pygments_lexer": "ipython3",
   "version": "3.10.6"
  }
 },
 "nbformat": 4,
 "nbformat_minor": 5
}
